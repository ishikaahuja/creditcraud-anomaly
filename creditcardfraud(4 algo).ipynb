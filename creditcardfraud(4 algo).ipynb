{
 "cells": [
  {
   "cell_type": "code",
   "execution_count": 1,
   "metadata": {},
   "outputs": [
    {
     "name": "stderr",
     "output_type": "stream",
     "text": [
      "C:\\Users\\ISHIKA\\anaconda3\\lib\\site-packages\\ipykernel_launcher.py:59: DataConversionWarning: A column-vector y was passed when a 1d array was expected. Please change the shape of y to (n_samples, ), for example using ravel().\n"
     ]
    },
    {
     "name": "stdout",
     "output_type": "stream",
     "text": [
      "accuracy and f1 score of knn sre given as\n",
      "0.9992626663389628 \n",
      "\n",
      "0.9996307562463735 \n",
      "\n"
     ]
    },
    {
     "name": "stderr",
     "output_type": "stream",
     "text": [
      "C:\\Users\\ISHIKA\\anaconda3\\lib\\site-packages\\sklearn\\utils\\validation.py:760: DataConversionWarning: A column-vector y was passed when a 1d array was expected. Please change the shape of y to (n_samples, ), for example using ravel().\n",
      "  y = column_or_1d(y, warn=True)\n"
     ]
    },
    {
     "name": "stdout",
     "output_type": "stream",
     "text": [
      "accuracy and f1 score of svm sre given as: \n",
      "0.9994616293903538 \n",
      "\n",
      "0.999730395029891 \n",
      "\n"
     ]
    },
    {
     "name": "stderr",
     "output_type": "stream",
     "text": [
      "C:\\Users\\ISHIKA\\anaconda3\\lib\\site-packages\\ipykernel_launcher.py:66: DataConversionWarning: A column-vector y was passed when a 1d array was expected. Please change the shape of y to (n_samples,), for example using ravel().\n"
     ]
    },
    {
     "name": "stdout",
     "output_type": "stream",
     "text": [
      "accuracy and f1 score of Random Forest sre given as\n",
      "0.9985136289690203 \n",
      "\n",
      "0.9992552324319887 \n",
      "\n"
     ]
    },
    {
     "name": "stderr",
     "output_type": "stream",
     "text": [
      "C:\\Users\\ISHIKA\\anaconda3\\lib\\site-packages\\sklearn\\utils\\validation.py:760: DataConversionWarning: A column-vector y was passed when a 1d array was expected. Please change the shape of y to (n_samples, ), for example using ravel().\n",
      "  y = column_or_1d(y, warn=True)\n"
     ]
    },
    {
     "name": "stdout",
     "output_type": "stream",
     "text": [
      "accuracy and f1 score of logistic regression sre given as\n",
      "0.9991222218320986 \n",
      "\n",
      "0.999560444712736 \n",
      "\n"
     ]
    }
   ],
   "source": [
    "# -*- coding: utf-8 -*-\n",
    "\"\"\"\n",
    "Created on Thu May 14 07:29:33 2020\n",
    "\n",
    "@author: ISHIKA\n",
    "\"\"\"\n",
    "\n",
    "\n",
    "import pandas as pd \n",
    "import numpy as np\n",
    "data=pd.read_csv(r\"C:\\Users\\ISHIKA\\4th\\creditcard.csv\")\n",
    "from sklearn.model_selection import train_test_split as tts\n",
    "from sklearn.svm import SVC\n",
    "from sklearn.metrics  import confusion_matrix\n",
    "from sklearn import neighbors\n",
    "from subprocess import check_output\n",
    "from sklearn.linear_model import LogisticRegression\n",
    "from sklearn.ensemble import RandomForestRegressor\n",
    "\n",
    "x=data.drop([\"Class\"],axis=1)\n",
    "y=data[[\"Class\"]]\n",
    "x_train,x_test,y_train,y_test=tts(x,y,train_size=0.7,random_state=100)\n",
    "from sklearn.preprocessing import StandardScaler\n",
    "ss=StandardScaler()\n",
    "x_train=ss.fit_transform(x_train)\n",
    "x_test=ss.transform(x_test)\n",
    "\n",
    "def accuracy(y_test,y_predf):\n",
    "    \n",
    "    \n",
    "    cm1=confusion_matrix(y_test, y_predf)\n",
    "    \n",
    "    total1=(sum(sum(cm1)))\n",
    "    accuracy=(cm1[0,0]+cm1[1,1])/total1\n",
    "    speci=cm1[0,0]/(cm1[0,0]+cm1[0,1])\n",
    "    sensi=cm1[0,0]/(cm1[1,0]+cm1[0,0])\n",
    "    print(accuracy,\"\\n\")\n",
    "    \n",
    "    cmp=2*(speci*sensi)/(speci+sensi)\n",
    "    print(cmp,\"\\n\")\n",
    "    \n",
    "    \n",
    "\n",
    "def svmp(x_train,y_train,y_test,x_test):\n",
    "    clf=SVC(kernel=\"poly\",degree=4,random_state=100)\n",
    "    #clf=classifier()\n",
    "    clf.fit(x_train,y_train)\n",
    "    y_pred=clf.predict(x_test)\n",
    "    #print(y_pred)\n",
    "    y_predf=pd.DataFrame(y_pred)\n",
    "    y_predf=y_predf.rename(columns={ 0 : 'fraud_Prob'})\n",
    "  \n",
    "    print(\"accuracy and f1 score of svm sre given as: \")\n",
    "    accuracy(y_test,y_predf)\n",
    "\n",
    "    #y_test=y_test.reshape(85443,1)\n",
    "def knn(x_train,y_train,y_test,x_test):\n",
    "    clf=neighbors.KNeighborsClassifier(10)\n",
    "    clf.fit(x_train,y_train)\n",
    "    y_pred=clf.predict(x_test)\n",
    "    y_predf=pd.DataFrame(y_pred)\n",
    "    print(\"accuracy and f1 score of knn sre given as\")\n",
    "    accuracy(y_test,y_predf)\n",
    "def rf(x_train,y_train,y_test,x_test):\n",
    "    regressor=RandomForestRegressor(n_estimators = 10, random_state = 100)\n",
    "    regressor.fit(x,y)\n",
    "    y_pred = regressor.predict(x_test)\n",
    "    y_predf=pd.DataFrame(y_pred)\n",
    "    y_pred_1 = y_predf.iloc[:,[0]]\n",
    "    y_test_df=pd.DataFrame(y_test)\n",
    "    \n",
    "    y_pred_1.reset_index(drop=True, inplace=True)\n",
    "    y_test_df.reset_index(drop=True, inplace=True)\n",
    "    y_pred_final = pd.concat([y_test_df,y_pred_1],axis=1)\n",
    "    y_pred_final= y_pred_final.rename(columns={ 0 : 'fraud_Prob'})\n",
    "    #print(y_pred_final.head())\n",
    "    y_pred_final['predicted'] = y_pred_final.fraud_Prob.map( lambda x: 1 if x > 0.2 else 0)\n",
    "    \n",
    "    print(\"accuracy and f1 score of Random Forest sre given as\")\n",
    "    accuracy(y_test,y_pred_final['predicted'])\n",
    "    \n",
    "    #ypredf[\"predicted\"]=y_predf.fraud_Probab.map(lambda x: 1 if x>0.3 else 0)\n",
    "    \n",
    "    \n",
    "def lr(x_train,y_train,x_test,y_test):\n",
    "    lore=LogisticRegression()\n",
    "    lore.fit(x_train,y_train)\n",
    "    #print(x_test)\n",
    "    y_pred=lore.predict(x_test)\n",
    "    y_preddf=pd.DataFrame(y_pred)\n",
    "    y_pred_1 = y_preddf.iloc[:,[0]]\n",
    "    y_test_df=pd.DataFrame(y_test)\n",
    "    \n",
    "    y_pred_1.reset_index(drop=True, inplace=True)\n",
    "    y_test_df.reset_index(drop=True, inplace=True)\n",
    "    y_pred_final = pd.concat([y_test_df,y_pred_1],axis=1)\n",
    "    y_pred_final= y_pred_final.rename(columns={ 0 : 'fraud_Prob'})\n",
    "    #print(y_pred_final.head())\n",
    "    y_pred_final['predicted'] = y_pred_final.fraud_Prob.map( lambda x: 1 if x > 0.2 else 0)\n",
    "    \n",
    "    print(\"accuracy and f1 score of logistic regression sre given as\")\n",
    "    accuracy(y_test,y_pred_final['predicted'])\n",
    "    \n",
    "    \n",
    "    \n",
    "    #check_output([\"ls\", path]).decode(\"utf8\")\n",
    "\n",
    "knn(x_train,y_train,y_test,x_test)\n",
    "svmp(x_train,y_train,y_test,x_test)\n",
    "rf(x_train,y_train,y_test,x_test)\n",
    "lr(x_train,y_train,x_test,y_test)\n"
   ]
  },
  {
   "cell_type": "code",
   "execution_count": null,
   "metadata": {},
   "outputs": [],
   "source": []
  }
 ],
 "metadata": {
  "kernelspec": {
   "display_name": "Python 3",
   "language": "python",
   "name": "python3"
  },
  "language_info": {
   "codemirror_mode": {
    "name": "ipython",
    "version": 3
   },
   "file_extension": ".py",
   "mimetype": "text/x-python",
   "name": "python",
   "nbconvert_exporter": "python",
   "pygments_lexer": "ipython3",
   "version": "3.7.6"
  }
 },
 "nbformat": 4,
 "nbformat_minor": 4
}
