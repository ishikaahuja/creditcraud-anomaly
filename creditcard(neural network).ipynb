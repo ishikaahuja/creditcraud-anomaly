{
 "cells": [
  {
   "cell_type": "code",
   "execution_count": 1,
   "metadata": {},
   "outputs": [
    {
     "name": "stderr",
     "output_type": "stream",
     "text": [
      "C:\\Users\\ISHIKA\\anaconda3\\lib\\site-packages\\ipykernel_launcher.py:36: RuntimeWarning: overflow encountered in exp\n",
      "C:\\Users\\ISHIKA\\anaconda3\\lib\\site-packages\\ipykernel_launcher.py:37: RuntimeWarning: overflow encountered in exp\n"
     ]
    },
    {
     "name": "stdout",
     "output_type": "stream",
     "text": [
      "Error by nn:  0.0017151522002674079\n"
     ]
    },
    {
     "name": "stderr",
     "output_type": "stream",
     "text": [
      "C:\\Users\\ISHIKA\\anaconda3\\lib\\site-packages\\ipykernel_launcher.py:48: RuntimeWarning: overflow encountered in exp\n",
      "C:\\Users\\ISHIKA\\anaconda3\\lib\\site-packages\\ipykernel_launcher.py:49: RuntimeWarning: overflow encountered in exp\n"
     ]
    },
    {
     "name": "stdout",
     "output_type": "stream",
     "text": [
      "[[1. 0.]\n",
      " [1. 0.]\n",
      " [1. 0.]\n",
      " ...\n",
      " [1. 0.]\n",
      " [1. 0.]\n",
      " [1. 0.]]\n"
     ]
    }
   ],
   "source": [
    "# -*- coding: utf-8 -*-\n",
    "\"\"\"\n",
    "Created on Thu May 14 13:14:13 2020\n",
    "\n",
    "@author: ISHIKA\n",
    "\"\"\"\n",
    "\n",
    "\n",
    "import pandas as pd \n",
    "import numpy as np\n",
    "data=pd.read_csv(r\"C:\\Users\\ISHIKA\\4th\\creditcard.csv\")\n",
    "from sklearn.model_selection import train_test_split as tts\n",
    "from sklearn.svm import SVC\n",
    "from sklearn.metrics  import confusion_matrix\n",
    "from sklearn import neighbors\n",
    "from subprocess import check_output\n",
    "trainper=90/100\n",
    "data['train'] = np.random.rand(len(data)) < trainper\n",
    "train=data[data[\"train\"]==True]\n",
    "train=train.drop([\"train\"],axis=1)\n",
    "#train.head()\n",
    "test=data[data[\"train\"]==False]\n",
    "test=test.drop([\"train\"],axis=1)\n",
    "#train.head()\n",
    "x=train.values[:,:30]\n",
    "targets=[[1,0],[0,1]]\n",
    "y=np.array([targets[int(x)] for x in train.values[:,30:31]])\n",
    "n=len(x[0])\n",
    "hiddenlayers=30\n",
    "np.random.seed(5)\n",
    "w1 = 2*np.random.random((n, hiddenlayers)) - 1\n",
    "no=len(y[0])\n",
    "w2=2*np.random.random((hiddenlayers,no))-1\n",
    "learningrate=0.3\n",
    "for epoch in range(0,10000):\n",
    "    l1 = 1/(1 + np.exp(-(np.dot(x, w1)))) # sigmoid function\n",
    "    l2 = 1/(1 + np.exp(-(np.dot(l1, w2))))\n",
    "    er = (abs(y - l2)).mean()\n",
    "    l2_delta = (y - l2)*(l2 * (1-l2))\n",
    "    l1_delta = l2_delta.dot(w2.T) * (l1 * (1-l1))\n",
    "    w2 += l1.T.dot(l2_delta) * learningrate\n",
    "    w1 += x.T.dot(l1_delta) * learningrate\n",
    "    #print(epoch)\n",
    "print(\"Error by nn: \",er)\n",
    "X = test.values[:,:30]\n",
    "y = np.array([targets[int(x)] for x in test.values[:,30:31]])\n",
    "\n",
    "l1 = 1/(1 + np.exp(-(np.dot(X, w1))))\n",
    "l2 = 1/(1 + np.exp(-(np.dot(l1, w2))))\n",
    "np.round(l2,3)\n",
    "print(l2)\n",
    "\n"
   ]
  },
  {
   "cell_type": "code",
   "execution_count": null,
   "metadata": {},
   "outputs": [],
   "source": []
  }
 ],
 "metadata": {
  "kernelspec": {
   "display_name": "Python 3",
   "language": "python",
   "name": "python3"
  },
  "language_info": {
   "codemirror_mode": {
    "name": "ipython",
    "version": 3
   },
   "file_extension": ".py",
   "mimetype": "text/x-python",
   "name": "python",
   "nbconvert_exporter": "python",
   "pygments_lexer": "ipython3",
   "version": "3.7.6"
  }
 },
 "nbformat": 4,
 "nbformat_minor": 4
}
